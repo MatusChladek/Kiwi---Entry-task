{
 "cells": [
  {
   "cell_type": "markdown",
   "metadata": {},
   "source": [
    "# Kiwi Challenge"
   ]
  },
  {
   "cell_type": "markdown",
   "metadata": {},
   "source": [
    "For each location find all possible trips."
   ]
  },
  {
   "cell_type": "code",
   "execution_count": 1,
   "metadata": {},
   "outputs": [
    {
     "data": {
      "text/plain": [
       "'C:\\\\Users\\\\chladek'"
      ]
     },
     "execution_count": 1,
     "metadata": {},
     "output_type": "execute_result"
    }
   ],
   "source": [
    "import os\n",
    "os.getcwd()"
   ]
  },
  {
   "cell_type": "code",
   "execution_count": 2,
   "metadata": {},
   "outputs": [],
   "source": [
    "import pandas as pd\n",
    "from datetime import datetime\n",
    "import numpy as np\n",
    "\n",
    "%reload_ext autoreload\n",
    "%autoreload 2\n",
    "from utils import *"
   ]
  },
  {
   "cell_type": "code",
   "execution_count": 321,
   "metadata": {
    "scrolled": false
   },
   "outputs": [],
   "source": [
    "# data frame\n",
    "df = pd.read_csv('data1.csv',parse_dates=True)"
   ]
  },
  {
   "cell_type": "code",
   "execution_count": 322,
   "metadata": {
    "scrolled": true
   },
   "outputs": [
    {
     "name": "stderr",
     "output_type": "stream",
     "text": [
      "C:\\Users\\chladek\\AppData\\Local\\Continuum\\anaconda3-64\\envs\\tf\\lib\\site-packages\\ipykernel\\__main__.py:15: SettingWithCopyWarning: \n",
      "A value is trying to be set on a copy of a slice from a DataFrame.\n",
      "Try using .loc[row_indexer,col_indexer] = value instead\n",
      "\n",
      "See the caveats in the documentation: http://pandas.pydata.org/pandas-docs/stable/indexing.html#indexing-view-versus-copy\n"
     ]
    },
    {
     "name": "stdout",
     "output_type": "stream",
     "text": [
      "0 bags\n"
     ]
    },
    {
     "data": {
      "text/plain": [
       "{'USM': [array([ 7, 14, 47], dtype=int64),\n",
       "  array([ 0, 24], dtype=int64),\n",
       "  array([ 1, 23], dtype=int64),\n",
       "  array([ 3, 13, 42], dtype=int64),\n",
       "  array([ 2, 25], dtype=int64),\n",
       "  array([ 8, 19], dtype=int64),\n",
       "  array([ 1, 14, 44], dtype=int64),\n",
       "  array([ 3, 21], dtype=int64),\n",
       "  array([ 9, 25], dtype=int64),\n",
       "  array([ 4, 24], dtype=int64),\n",
       "  array([10, 24], dtype=int64),\n",
       "  array([ 5, 20, 37], dtype=int64),\n",
       "  array([ 5, 19], dtype=int64),\n",
       "  array([ 6, 22], dtype=int64),\n",
       "  array([ 7, 26], dtype=int64),\n",
       "  array([ 9, 19, 42], dtype=int64)],\n",
       " 'HKT': [array([15, 70], dtype=int64),\n",
       "  array([11,  7, 49], dtype=int64),\n",
       "  array([20,  8, 37], dtype=int64),\n",
       "  array([16,  5, 37], dtype=int64),\n",
       "  array([20, 10, 42], dtype=int64),\n",
       "  array([16, 18], dtype=int64),\n",
       "  array([11, 23], dtype=int64),\n",
       "  array([20,  6, 40], dtype=int64),\n",
       "  array([17, 96], dtype=int64),\n",
       "  array([12, 22], dtype=int64),\n",
       "  array([18, 24], dtype=int64),\n",
       "  array([13, 21], dtype=int64),\n",
       "  array([19, 17], dtype=int64),\n",
       "  array([14, 21], dtype=int64),\n",
       "  array([20, 18], dtype=int64)],\n",
       " 'BWN': [array([26, 54], dtype=int64),\n",
       "  array([21, 48], dtype=int64),\n",
       "  array([ 24,  40, 107], dtype=int64),\n",
       "  array([27, 55], dtype=int64),\n",
       "  array([22, 49], dtype=int64),\n",
       "  array([ 27,  41, 105], dtype=int64),\n",
       "  array([28, 46], dtype=int64),\n",
       "  array([23, 59], dtype=int64),\n",
       "  array([ 23,  35,  12, 148], dtype=int64),\n",
       "  array([29, 57], dtype=int64),\n",
       "  array([ 24,  37, 135], dtype=int64),\n",
       "  array([ 28,  39,  12, 157], dtype=int64),\n",
       "  array([30, 41], dtype=int64),\n",
       "  array([31, 56], dtype=int64),\n",
       "  array([ 23,  35, 126], dtype=int64),\n",
       "  array([ 28,  39, 135], dtype=int64),\n",
       "  array([24, 50], dtype=int64),\n",
       "  array([ 24,  37,  18, 159], dtype=int64),\n",
       "  array([25, 51], dtype=int64)],\n",
       " 'DPS': [array([38, 19, 96], dtype=int64),\n",
       "  array([32, 83], dtype=int64),\n",
       "  array([35, 12, 89], dtype=int64),\n",
       "  array([33, 43], dtype=int64),\n",
       "  array([ 39,  12, 111], dtype=int64),\n",
       "  array([ 32,  14, 104], dtype=int64),\n",
       "  array([34, 47], dtype=int64),\n",
       "  array([40, 57], dtype=int64),\n",
       "  array([35, 67], dtype=int64),\n",
       "  array([36, 14, 99], dtype=int64),\n",
       "  array([ 37,  18, 109], dtype=int64),\n",
       "  array([36, 78], dtype=int64),\n",
       "  array([ 40,  31, 113], dtype=int64),\n",
       "  array([41, 50], dtype=int64),\n",
       "  array([37, 85], dtype=int64),\n",
       "  array([38, 79], dtype=int64),\n",
       "  array([39, 89], dtype=int64),\n",
       "  array([33, 31, 99], dtype=int64)]}"
      ]
     },
     "execution_count": 322,
     "metadata": {},
     "output_type": "execute_result"
    }
   ],
   "source": [
    "# just instructional output\n",
    "bags_0 = get_flights(df,0)\n",
    "print('0 bags')\n",
    "bags_0"
   ]
  },
  {
   "cell_type": "code",
   "execution_count": 323,
   "metadata": {
    "scrolled": true
   },
   "outputs": [
    {
     "name": "stderr",
     "output_type": "stream",
     "text": [
      "C:\\Users\\chladek\\AppData\\Local\\Continuum\\anaconda3-64\\envs\\tf\\lib\\site-packages\\ipykernel\\__main__.py:15: SettingWithCopyWarning: \n",
      "A value is trying to be set on a copy of a slice from a DataFrame.\n",
      "Try using .loc[row_indexer,col_indexer] = value instead\n",
      "\n",
      "See the caveats in the documentation: http://pandas.pydata.org/pandas-docs/stable/indexing.html#indexing-view-versus-copy\n"
     ]
    },
    {
     "name": "stdout",
     "output_type": "stream",
     "text": [
      "1 bag\n"
     ]
    },
    {
     "data": {
      "text/plain": [
       "{'USM': [array([ 7, 14, 72], dtype=int64),\n",
       "  array([ 0, 33], dtype=int64),\n",
       "  array([ 1, 32], dtype=int64),\n",
       "  array([ 3, 13, 64], dtype=int64),\n",
       "  array([ 2, 39], dtype=int64),\n",
       "  array([ 8, 27], dtype=int64),\n",
       "  array([ 1, 14, 65], dtype=int64),\n",
       "  array([ 3, 38], dtype=int64),\n",
       "  array([ 9, 41], dtype=int64),\n",
       "  array([ 4, 38], dtype=int64),\n",
       "  array([10, 41], dtype=int64),\n",
       "  array([ 5, 20, 62], dtype=int64),\n",
       "  array([ 5, 32], dtype=int64),\n",
       "  array([ 6, 40], dtype=int64),\n",
       "  array([ 7, 39], dtype=int64),\n",
       "  array([ 9, 19, 69], dtype=int64)],\n",
       " 'HKT': [array([ 15, 109], dtype=int64),\n",
       "  array([11,  7, 77], dtype=int64),\n",
       "  array([20,  8, 57], dtype=int64),\n",
       "  array([16,  5, 57], dtype=int64),\n",
       "  array([20, 10, 71], dtype=int64),\n",
       "  array([16, 25], dtype=int64),\n",
       "  array([11, 38], dtype=int64),\n",
       "  array([20,  6, 70], dtype=int64),\n",
       "  array([ 17, 136], dtype=int64),\n",
       "  array([12, 28], dtype=int64),\n",
       "  array([18, 29], dtype=int64),\n",
       "  array([13, 26], dtype=int64),\n",
       "  array([19, 28], dtype=int64),\n",
       "  array([14, 33], dtype=int64),\n",
       "  array([20, 30], dtype=int64)],\n",
       " 'BWN': [array([26, 77], dtype=int64),\n",
       "  array([21, 73], dtype=int64),\n",
       "  array([ 24,  40, 156], dtype=int64),\n",
       "  array([27, 77], dtype=int64),\n",
       "  array([22, 79], dtype=int64),\n",
       "  array([ 27,  41, 157], dtype=int64),\n",
       "  array([28, 80], dtype=int64),\n",
       "  array([23, 88], dtype=int64),\n",
       "  array([ 23,  35,  12, 232], dtype=int64),\n",
       "  array([29, 90], dtype=int64),\n",
       "  array([ 24,  37, 198], dtype=int64),\n",
       "  array([ 28,  39,  12, 240], dtype=int64),\n",
       "  array([30, 63], dtype=int64),\n",
       "  array([31, 87], dtype=int64),\n",
       "  array([ 23,  35, 204], dtype=int64),\n",
       "  array([ 28,  39, 212], dtype=int64),\n",
       "  array([24, 75], dtype=int64),\n",
       "  array([ 24,  37,  18, 227], dtype=int64),\n",
       "  array([25, 77], dtype=int64)],\n",
       " 'DPS': [array([ 38,  19, 151], dtype=int64),\n",
       "  array([ 32, 121], dtype=int64),\n",
       "  array([ 35,  12, 144], dtype=int64),\n",
       "  array([33, 68], dtype=int64),\n",
       "  array([ 39,  12, 160], dtype=int64),\n",
       "  array([ 32,  14, 154], dtype=int64),\n",
       "  array([34, 70], dtype=int64),\n",
       "  array([40, 81], dtype=int64),\n",
       "  array([ 35, 116], dtype=int64),\n",
       "  array([ 36,  14, 152], dtype=int64),\n",
       "  array([ 37,  18, 152], dtype=int64),\n",
       "  array([ 36, 119], dtype=int64),\n",
       "  array([ 40,  31, 168], dtype=int64),\n",
       "  array([41, 80], dtype=int64),\n",
       "  array([ 37, 123], dtype=int64),\n",
       "  array([ 38, 123], dtype=int64),\n",
       "  array([ 39, 132], dtype=int64),\n",
       "  array([ 33,  31, 155], dtype=int64)]}"
      ]
     },
     "execution_count": 323,
     "metadata": {},
     "output_type": "execute_result"
    }
   ],
   "source": [
    "# just instructional output\n",
    "bags_1 = get_flights(df,1)\n",
    "print('1 bag')\n",
    "bags_1"
   ]
  },
  {
   "cell_type": "code",
   "execution_count": 324,
   "metadata": {
    "scrolled": true
   },
   "outputs": [
    {
     "name": "stderr",
     "output_type": "stream",
     "text": [
      "C:\\Users\\chladek\\AppData\\Local\\Continuum\\anaconda3-64\\envs\\tf\\lib\\site-packages\\ipykernel\\__main__.py:15: SettingWithCopyWarning: \n",
      "A value is trying to be set on a copy of a slice from a DataFrame.\n",
      "Try using .loc[row_indexer,col_indexer] = value instead\n",
      "\n",
      "See the caveats in the documentation: http://pandas.pydata.org/pandas-docs/stable/indexing.html#indexing-view-versus-copy\n"
     ]
    },
    {
     "name": "stdout",
     "output_type": "stream",
     "text": [
      "2 bags\n"
     ]
    },
    {
     "data": {
      "text/plain": [
       "{'USM': [array([ 1, 41], dtype=int64),\n",
       "  array([ 8, 35], dtype=int64),\n",
       "  array([ 9, 57], dtype=int64),\n",
       "  array([10, 58], dtype=int64),\n",
       "  array([ 7, 52], dtype=int64)],\n",
       " 'HKT': [array([18, 34], dtype=int64),\n",
       "  array([13, 31], dtype=int64),\n",
       "  array([16, 32], dtype=int64)],\n",
       " 'BWN': [array([ 31, 118], dtype=int64),\n",
       "  array([ 26, 100], dtype=int64),\n",
       "  array([27, 99], dtype=int64),\n",
       "  array([30, 85], dtype=int64)],\n",
       " 'DPS': [array([ 36, 160], dtype=int64),\n",
       "  array([ 38, 167], dtype=int64),\n",
       "  array([33, 93], dtype=int64),\n",
       "  array([ 33,  31, 211], dtype=int64)]}"
      ]
     },
     "execution_count": 324,
     "metadata": {},
     "output_type": "execute_result"
    }
   ],
   "source": [
    "# just instructional output\n",
    "bags_2 = get_flights(df,2)\n",
    "print('2 bags')\n",
    "bags_2"
   ]
  },
  {
   "cell_type": "code",
   "execution_count": null,
   "metadata": {},
   "outputs": [],
   "source": [
    "# example how to access trips\n",
    "\n",
    "# price\n",
    "bags_0['USM'][0][-1]\n",
    "\n",
    "# trip\n",
    "bags_0['USM'][0]"
   ]
  }
 ],
 "metadata": {
  "kernelspec": {
   "display_name": "Python [conda env:tf]",
   "language": "python",
   "name": "conda-env-tf-py"
  },
  "language_info": {
   "codemirror_mode": {
    "name": "ipython",
    "version": 3
   },
   "file_extension": ".py",
   "mimetype": "text/x-python",
   "name": "python",
   "nbconvert_exporter": "python",
   "pygments_lexer": "ipython3",
   "version": "3.6.6"
  }
 },
 "nbformat": 4,
 "nbformat_minor": 2
}
